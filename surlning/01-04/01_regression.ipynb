{
 "cells": [
  {
   "cell_type": "markdown",
   "id": "ae0ecbae",
   "metadata": {},
   "source": [
    "### **Lesson 1 – Supervised Learning (Regression cơ bản)**\n",
    "\n",
    "**🔑 Prerequisite**\n",
    "\n",
    "* Biết **Python** (mày có rồi).\n",
    "* Hiểu **array, hàm số, đồ thị** cơ bản.\n",
    "* Biết chút về **vector/matrix** thì càng tốt.\n",
    "\n",
    "---\n",
    "\n",
    "#### ❓ Supervised Learning là cái quái gì?\n",
    "\n",
    "* **Supervised Learning (SL)**: có **dữ liệu đầu vào (X)** + **nhãn đúng (y)**.\n",
    "* Mục tiêu: học một **hàm f(X) ≈ y**.\n",
    "* Ví dụ:\n",
    "\n",
    "  * Input = diện tích nhà, Output = giá nhà.\n",
    "  * Input = điểm kiểm tra, Output = điểm tổng kết.\n",
    "\n",
    "---\n",
    "\n",
    "#### ❓ Regression khác Classification như thế nào?\n",
    "\n",
    "* **Regression** → dự đoán giá trị **liên tục** (continuous).\n",
    "* **Classification** → dự đoán nhãn **rời rạc** (discrete).\n",
    "* Ví dụ:\n",
    "\n",
    "  * Regression: dự đoán cân nặng (50.2kg, 71.5kg).\n",
    "  * Classification: dự đoán con mèo hay con chó.\n",
    "\n",
    "---\n",
    "\n",
    "#### ❓ Tại sao Linear Regression lại hay được dùng đầu tiên?\n",
    "\n",
    "* Đơn giản, dễ hiểu.\n",
    "* Mô hình:\n",
    "\n",
    "  $$\n",
    "  \\hat{y} = w \\cdot x + b\n",
    "  $$\n",
    "\n",
    "  (hoặc nhiều chiều thì $\\hat{y} = Xw + b$)\n",
    "\n",
    "---\n",
    "\n",
    "#### ❓ Làm sao đo “độ sai” của mô hình?\n",
    "\n",
    "* Dùng **Loss function**.\n",
    "* Với Regression hay dùng **Mean Squared Error (MSE)**:\n",
    "\n",
    "  $$\n",
    "  L = \\frac{1}{n} \\sum (y_i - \\hat{y}_i)^2\n",
    "  $$\n",
    "\n",
    "---\n",
    "\n",
    "#### ❓ Làm sao tìm w, b tốt nhất?\n",
    "\n",
    "* Dùng **Gradient Descent**: lặp đi lặp lại để giảm loss.\n",
    "* Ý tưởng: tính gradient của loss, cập nhật w, b theo hướng làm loss nhỏ hơn.\n",
    "\n",
    "---\n",
    "\n",
    "#### 🚀 Practice Exercise\n",
    "\n",
    "Tự code Linear Regression siêu đơn giản (1 feature)\n",
    "\n",
    "Dữ liệu:\n",
    "\n",
    "```\n",
    "X = [1, 2, 3, 4, 5]\n",
    "y = [2, 4, 6, 8, 10]\n",
    "```\n",
    "\n",
    "👉 Rõ ràng quan hệ là $y = 2x$.\n",
    "\n",
    "Viết code Python:\n",
    "\n",
    "1. Khởi tạo w, b ngẫu nhiên.\n",
    "2. Tính loss (MSE).\n",
    "3. Update w, b bằng gradient descent (vài vòng lặp).\n",
    "4. In kết quả ra.\n",
    "\n",
    "Gợi ý công thức update:\n",
    "\n",
    "* $w = w - \\alpha \\cdot \\frac{\\partial L}{\\partial w}$\n",
    "* $b = b - \\alpha \\cdot \\frac{\\partial L}{\\partial b}$\n",
    "\n",
    "Với:\n",
    "\n",
    "* $\\frac{\\partial L}{\\partial w} = -\\frac{2}{n}\\sum x_i (y_i - \\hat{y}_i)$\n",
    "* $\\frac{\\partial L}{\\partial b} = -\\frac{2}{n}\\sum (y_i - \\hat{y}_i)$\n",
    "\n",
    "---\n",
    "\n",
    "#### 🧩 Solution"
   ]
  },
  {
   "cell_type": "code",
   "execution_count": 1,
   "id": "6d04328a",
   "metadata": {},
   "outputs": [],
   "source": [
    "# Imports\n",
    "import numpy as np\n",
    "from tqdm import tqdm"
   ]
  },
  {
   "cell_type": "code",
   "execution_count": 2,
   "id": "98422181",
   "metadata": {},
   "outputs": [],
   "source": [
    "# Dataset\n",
    "X = np.arange(1, 6)\n",
    "Y = np.arange(2, 11, 2)"
   ]
  },
  {
   "cell_type": "code",
   "execution_count": 3,
   "id": "236db1ff",
   "metadata": {},
   "outputs": [],
   "source": [
    "# Parameters\n",
    "w = b = 0\n",
    "lr = 0.01\n",
    "epochs = 1000"
   ]
  },
  {
   "cell_type": "code",
   "execution_count": 4,
   "id": "ff3d13ee",
   "metadata": {},
   "outputs": [],
   "source": [
    "# Functions\n",
    "def mse(y: np.ndarray):\n",
    "    return ((Y - y) ** 2).mean()\n",
    "\n",
    "\n",
    "def forward():\n",
    "    return w * X + b\n",
    "\n",
    "\n",
    "def deriv_w(y: np.ndarray):\n",
    "    return -2 * ((Y - y) * X).mean()\n",
    "\n",
    "\n",
    "def deriv_b(y: np.ndarray):\n",
    "    return -2 * ((Y - y)).mean()"
   ]
  },
  {
   "cell_type": "code",
   "execution_count": 5,
   "id": "b5af51f1",
   "metadata": {},
   "outputs": [
    {
     "name": "stderr",
     "output_type": "stream",
     "text": [
      "100%|██████████| 1000/1000 [00:00<00:00, 76307.24it/s]\n"
     ]
    }
   ],
   "source": [
    "# Training\n",
    "def train_step():\n",
    "    global w, b\n",
    "    y = forward()\n",
    "    w -= lr * deriv_w(y)\n",
    "    b -= lr * deriv_b(y)\n",
    "\n",
    "\n",
    "for _ in tqdm(range(epochs)):\n",
    "    train_step()"
   ]
  },
  {
   "cell_type": "code",
   "execution_count": 6,
   "id": "4b93f6ec",
   "metadata": {},
   "outputs": [
    {
     "name": "stdout",
     "output_type": "stream",
     "text": [
      "Final loss: 0.0001\n"
     ]
    }
   ],
   "source": [
    "# Report\n",
    "print(f\"Final loss: {mse(forward()):.4f}\")"
   ]
  }
 ],
 "metadata": {
  "kernelspec": {
   "display_name": ".venv",
   "language": "python",
   "name": "python3"
  },
  "language_info": {
   "codemirror_mode": {
    "name": "ipython",
    "version": 3
   },
   "file_extension": ".py",
   "mimetype": "text/x-python",
   "name": "python",
   "nbconvert_exporter": "python",
   "pygments_lexer": "ipython3",
   "version": "3.13.7"
  }
 },
 "nbformat": 4,
 "nbformat_minor": 5
}
