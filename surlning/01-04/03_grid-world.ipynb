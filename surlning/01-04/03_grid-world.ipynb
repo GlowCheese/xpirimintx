{
 "cells": [
  {
   "cell_type": "markdown",
   "id": "e2730c42",
   "metadata": {},
   "source": [
    "### **Lesson 3 – Giới thiệu & Grid World**\n",
    "\n",
    "**🔑 Prerequisite**\n",
    "\n",
    "* Biết loop + if/else trong Python.\n",
    "* Biết random một chút.\n",
    "* Hiểu khái niệm reward (thưởng/phạt) cơ bản.\n",
    "\n",
    "---\n",
    "\n",
    "#### ❓ Reinforcement Learning (RL) là gì?\n",
    "\n",
    "* Khác với SL (có nhãn sẵn) hay UL (gom cụm), RL = **học qua tương tác**.\n",
    "* Thành phần chính:\n",
    "\n",
    "  * **Agent**: thằng ra quyết định.\n",
    "  * **Environment**: thế giới mà agent tương tác.\n",
    "  * **Action**: hành động agent chọn.\n",
    "  * **State**: tình trạng hiện tại của môi trường.\n",
    "  * **Reward**: feedback cho action.\n",
    "\n",
    "---\n",
    "\n",
    "#### ❓ RL khác SL/UL ở đâu?\n",
    "\n",
    "* SL: học từ nhãn đúng.\n",
    "* UL: học từ dữ liệu chưa có nhãn.\n",
    "* RL: học từ **trải nghiệm + thưởng/phạt**, không ai đưa nhãn đúng cả.\n",
    "\n",
    "---\n",
    "\n",
    "#### ❓ Ví dụ mini: Grid World\n",
    "\n",
    "* Một bàn cờ 3x3.\n",
    "* Agent bắt đầu ở góc trái trên (0,0).\n",
    "* Goal = góc phải dưới (2,2).\n",
    "* Action = {up, down, left, right}.\n",
    "* Reward:\n",
    "\n",
    "  * -1 mỗi bước.\n",
    "  * +10 khi đến goal.\n",
    "\n",
    "---\n",
    "\n",
    "#### ❓ Chính sách (policy) là gì?\n",
    "\n",
    "* **Policy** = cách agent chọn action tại mỗi state.\n",
    "* Ban đầu agent random.\n",
    "* Dần dần học được policy “đi lối ngắn nhất đến goal”.\n",
    "\n",
    "---\n",
    "\n",
    "#### 🚀 Practice Exercise\n",
    "\n",
    "Viết một environment Grid World đơn giản\n",
    "\n",
    "Yêu cầu:\n",
    "\n",
    "1. Represent grid 3x3 bằng numpy array hoặc tuple (row, col).\n",
    "2. State = vị trí hiện tại (row, col).\n",
    "3. Hàm `step(action)` → trả về `(next_state, reward, done)`.\n",
    "4. Hành động hợp lệ: up/down/left/right. Nếu đi ra ngoài → ở nguyên, reward = -1.\n",
    "5. Nếu đến goal (2,2) → done=True, reward=+10."
   ]
  },
  {
   "cell_type": "code",
   "execution_count": 1,
   "id": "682ae6aa",
   "metadata": {},
   "outputs": [],
   "source": [
    "import random"
   ]
  },
  {
   "cell_type": "code",
   "execution_count": 2,
   "id": "3522589d",
   "metadata": {},
   "outputs": [],
   "source": [
    "class GridWorld:\n",
    "    def __init__(self):\n",
    "        self.state: tuple[int, int]\n",
    "        self.cum_reward: int\n",
    "\n",
    "    def reset(self):\n",
    "        self.state = (0, 0)\n",
    "        self.cum_reward = 0\n",
    "        return self.state\n",
    "\n",
    "    def step(self, action: str):\n",
    "        match action:\n",
    "            case \"L\":\n",
    "                next_state = (self.state[0], max(0, self.state[1] - 1))\n",
    "            case \"R\":\n",
    "                next_state = (self.state[0], min(2, self.state[1] + 1))\n",
    "            case \"U\":\n",
    "                next_state = (max(0, self.state[0] - 1), self.state[1])\n",
    "            case \"D\":\n",
    "                next_state = (min(2, self.state[0] + 1), self.state[1])\n",
    "            case _:\n",
    "                raise ValueError(f\"Invalid action: {action}\")\n",
    "\n",
    "        self.state = next_state\n",
    "\n",
    "        if next_state[0] == next_state[1] == 2:\n",
    "            self.cum_reward += 10\n",
    "            return next_state, 10, True\n",
    "        else:\n",
    "            self.cum_reward -= 1\n",
    "            return next_state, -1, False"
   ]
  },
  {
   "cell_type": "code",
   "execution_count": 3,
   "id": "525d0b68",
   "metadata": {},
   "outputs": [],
   "source": [
    "# Hyperparameters\n",
    "epochs, max_steps = 20, 50"
   ]
  },
  {
   "cell_type": "code",
   "execution_count": 4,
   "id": "c73fd835",
   "metadata": {},
   "outputs": [],
   "source": [
    "# Training\n",
    "model = GridWorld()\n",
    "\n",
    "# best = max cum_reward and actions seq\n",
    "best: tuple[int, list[str]] = (-1 << 30, [])\n",
    "\n",
    "for _ in range(epochs):\n",
    "    model.reset()\n",
    "\n",
    "    actions, done = [], False\n",
    "    for _ in range(max_steps):\n",
    "        # Assuming policy = random\n",
    "        action = random.choice(\"LRUD\")\n",
    "        actions.append(action)\n",
    "\n",
    "        _, _, done = model.step(action)\n",
    "        if done:\n",
    "            break\n",
    "\n",
    "    if done and model.cum_reward > best[0]:\n",
    "        best = (model.cum_reward, actions)"
   ]
  },
  {
   "cell_type": "code",
   "execution_count": 5,
   "id": "922ed5a3",
   "metadata": {},
   "outputs": [
    {
     "name": "stdout",
     "output_type": "stream",
     "text": [
      "Best found solution:\n",
      "* cum_reward: 6\n",
      "* actions seq: LRDRD\n"
     ]
    }
   ],
   "source": [
    "print(\"Best found solution:\")\n",
    "print(f\"* cum_reward: {best[0]}\")\n",
    "print(f\"* actions seq: {''.join(best[1])}\")"
   ]
  }
 ],
 "metadata": {
  "kernelspec": {
   "display_name": ".venv",
   "language": "python",
   "name": "python3"
  },
  "language_info": {
   "codemirror_mode": {
    "name": "ipython",
    "version": 3
   },
   "file_extension": ".py",
   "mimetype": "text/x-python",
   "name": "python",
   "nbconvert_exporter": "python",
   "pygments_lexer": "ipython3",
   "version": "3.13.7"
  }
 },
 "nbformat": 4,
 "nbformat_minor": 5
}
